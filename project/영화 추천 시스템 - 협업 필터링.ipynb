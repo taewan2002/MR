{
 "cells": [
  {
   "cell_type": "markdown",
   "id": "aca69eb7",
   "metadata": {},
   "source": [
    "## 3. Collaborative Filtering (협업 필터링 : 사용자 리뷰 기반)"
   ]
  },
  {
   "cell_type": "code",
   "execution_count": 4,
   "id": "acf11eed",
   "metadata": {},
   "outputs": [
    {
     "data": {
      "text/plain": "'1.1.3'"
     },
     "execution_count": 4,
     "metadata": {},
     "output_type": "execute_result"
    }
   ],
   "source": [
    "import surprise\n",
    "surprise.__version__"
   ]
  },
  {
   "cell_type": "code",
   "execution_count": 5,
   "id": "d03c629f",
   "metadata": {},
   "outputs": [],
   "source": [
    "import pandas as pd\n",
    "from surprise import Reader, Dataset, SVD\n",
    "from surprise.model_selection import cross_validate"
   ]
  },
  {
   "cell_type": "code",
   "execution_count": 6,
   "id": "15ad1576",
   "metadata": {},
   "outputs": [
    {
     "data": {
      "text/plain": "   userId  movieId  rating   timestamp\n0       1       31     2.5  1260759144\n1       1     1029     3.0  1260759179\n2       1     1061     3.0  1260759182\n3       1     1129     2.0  1260759185\n4       1     1172     4.0  1260759205",
      "text/html": "<div>\n<style scoped>\n    .dataframe tbody tr th:only-of-type {\n        vertical-align: middle;\n    }\n\n    .dataframe tbody tr th {\n        vertical-align: top;\n    }\n\n    .dataframe thead th {\n        text-align: right;\n    }\n</style>\n<table border=\"1\" class=\"dataframe\">\n  <thead>\n    <tr style=\"text-align: right;\">\n      <th></th>\n      <th>userId</th>\n      <th>movieId</th>\n      <th>rating</th>\n      <th>timestamp</th>\n    </tr>\n  </thead>\n  <tbody>\n    <tr>\n      <th>0</th>\n      <td>1</td>\n      <td>31</td>\n      <td>2.5</td>\n      <td>1260759144</td>\n    </tr>\n    <tr>\n      <th>1</th>\n      <td>1</td>\n      <td>1029</td>\n      <td>3.0</td>\n      <td>1260759179</td>\n    </tr>\n    <tr>\n      <th>2</th>\n      <td>1</td>\n      <td>1061</td>\n      <td>3.0</td>\n      <td>1260759182</td>\n    </tr>\n    <tr>\n      <th>3</th>\n      <td>1</td>\n      <td>1129</td>\n      <td>2.0</td>\n      <td>1260759185</td>\n    </tr>\n    <tr>\n      <th>4</th>\n      <td>1</td>\n      <td>1172</td>\n      <td>4.0</td>\n      <td>1260759205</td>\n    </tr>\n  </tbody>\n</table>\n</div>"
     },
     "execution_count": 6,
     "metadata": {},
     "output_type": "execute_result"
    }
   ],
   "source": [
    "ratings = pd.read_csv('ratings_small.csv')\n",
    "ratings.head()"
   ]
  },
  {
   "cell_type": "code",
   "execution_count": 7,
   "id": "610009f8",
   "metadata": {},
   "outputs": [
    {
     "data": {
      "text/plain": "0.5"
     },
     "execution_count": 7,
     "metadata": {},
     "output_type": "execute_result"
    }
   ],
   "source": [
    "ratings['rating'].min()"
   ]
  },
  {
   "cell_type": "code",
   "execution_count": 8,
   "id": "fce75803",
   "metadata": {},
   "outputs": [
    {
     "data": {
      "text/plain": "5.0"
     },
     "execution_count": 8,
     "metadata": {},
     "output_type": "execute_result"
    }
   ],
   "source": [
    "ratings['rating'].max()"
   ]
  },
  {
   "cell_type": "code",
   "execution_count": 9,
   "id": "9c62660a",
   "metadata": {},
   "outputs": [],
   "source": [
    "reader = Reader(rating_scale=(0.5, 5))"
   ]
  },
  {
   "cell_type": "code",
   "execution_count": 10,
   "id": "f1b0a5ed",
   "metadata": {},
   "outputs": [
    {
     "data": {
      "text/plain": "<surprise.dataset.DatasetAutoFolds at 0x128c9d270>"
     },
     "execution_count": 10,
     "metadata": {},
     "output_type": "execute_result"
    }
   ],
   "source": [
    "data = Dataset.load_from_df(ratings[['userId', 'movieId', 'rating']], reader=reader)\n",
    "data"
   ]
  },
  {
   "cell_type": "code",
   "execution_count": 11,
   "id": "7ee17fc5",
   "metadata": {},
   "outputs": [],
   "source": [
    "svd = SVD(random_state=0)"
   ]
  },
  {
   "cell_type": "code",
   "execution_count": 12,
   "id": "f0ec4915",
   "metadata": {
    "scrolled": true
   },
   "outputs": [
    {
     "name": "stdout",
     "output_type": "stream",
     "text": [
      "Evaluating RMSE, MAE of algorithm SVD on 5 split(s).\n",
      "\n",
      "                  Fold 1  Fold 2  Fold 3  Fold 4  Fold 5  Mean    Std     \n",
      "RMSE (testset)    0.8940  0.9047  0.8985  0.8970  0.8893  0.8967  0.0051  \n",
      "MAE (testset)     0.6860  0.6976  0.6924  0.6911  0.6859  0.6906  0.0044  \n",
      "Fit time          0.47    0.41    0.40    0.40    0.40    0.42    0.03    \n",
      "Test time         0.05    0.09    0.05    0.11    0.05    0.07    0.03    \n"
     ]
    },
    {
     "data": {
      "text/plain": "{'test_rmse': array([0.89403042, 0.90465473, 0.89850066, 0.89700387, 0.88933878]),\n 'test_mae': array([0.68597054, 0.69756635, 0.69235725, 0.69106948, 0.68587874]),\n 'fit_time': (0.4660069942474365,\n  0.4128530025482178,\n  0.4046621322631836,\n  0.3968191146850586,\n  0.4028499126434326),\n 'test_time': (0.04766201972961426,\n  0.08954310417175293,\n  0.0455019474029541,\n  0.10921001434326172,\n  0.04534006118774414)}"
     },
     "execution_count": 12,
     "metadata": {},
     "output_type": "execute_result"
    }
   ],
   "source": [
    "cross_validate(svd, data, measures=['RMSE', 'MAE'], cv=5, verbose=True)"
   ]
  },
  {
   "cell_type": "markdown",
   "id": "3ba56024",
   "metadata": {},
   "source": [
    "교차 검증 (K-Fold 교차 검증)\n",
    "\n",
    "100 개 데이터\n",
    "\n",
    "A:1-20\n",
    "B:21-40\n",
    "C:41-60\n",
    "D:61-80\n",
    "E:81-100\n",
    "\n",
    "ABCD (train set) E (test set)\n",
    "ABCE (train set) D (test set)\n",
    "ABDE (train set) C (test set)\n",
    "ACDE (train set) B (test set)\n",
    "BCDE (train set) A (test set)\n"
   ]
  },
  {
   "cell_type": "code",
   "execution_count": 13,
   "id": "4c797046",
   "metadata": {},
   "outputs": [
    {
     "data": {
      "text/plain": "<surprise.prediction_algorithms.matrix_factorization.SVD at 0x128466230>"
     },
     "execution_count": 13,
     "metadata": {},
     "output_type": "execute_result"
    }
   ],
   "source": [
    "trainset = data.build_full_trainset()\n",
    "svd.fit(trainset)"
   ]
  },
  {
   "cell_type": "code",
   "execution_count": 14,
   "id": "9b2ca9c9",
   "metadata": {},
   "outputs": [
    {
     "data": {
      "text/plain": "    userId  movieId  rating   timestamp\n0        1       31     2.5  1260759144\n1        1     1029     3.0  1260759179\n2        1     1061     3.0  1260759182\n3        1     1129     2.0  1260759185\n4        1     1172     4.0  1260759205\n5        1     1263     2.0  1260759151\n6        1     1287     2.0  1260759187\n7        1     1293     2.0  1260759148\n8        1     1339     3.5  1260759125\n9        1     1343     2.0  1260759131\n10       1     1371     2.5  1260759135\n11       1     1405     1.0  1260759203\n12       1     1953     4.0  1260759191\n13       1     2105     4.0  1260759139\n14       1     2150     3.0  1260759194\n15       1     2193     2.0  1260759198\n16       1     2294     2.0  1260759108\n17       1     2455     2.5  1260759113\n18       1     2968     1.0  1260759200\n19       1     3671     3.0  1260759117",
      "text/html": "<div>\n<style scoped>\n    .dataframe tbody tr th:only-of-type {\n        vertical-align: middle;\n    }\n\n    .dataframe tbody tr th {\n        vertical-align: top;\n    }\n\n    .dataframe thead th {\n        text-align: right;\n    }\n</style>\n<table border=\"1\" class=\"dataframe\">\n  <thead>\n    <tr style=\"text-align: right;\">\n      <th></th>\n      <th>userId</th>\n      <th>movieId</th>\n      <th>rating</th>\n      <th>timestamp</th>\n    </tr>\n  </thead>\n  <tbody>\n    <tr>\n      <th>0</th>\n      <td>1</td>\n      <td>31</td>\n      <td>2.5</td>\n      <td>1260759144</td>\n    </tr>\n    <tr>\n      <th>1</th>\n      <td>1</td>\n      <td>1029</td>\n      <td>3.0</td>\n      <td>1260759179</td>\n    </tr>\n    <tr>\n      <th>2</th>\n      <td>1</td>\n      <td>1061</td>\n      <td>3.0</td>\n      <td>1260759182</td>\n    </tr>\n    <tr>\n      <th>3</th>\n      <td>1</td>\n      <td>1129</td>\n      <td>2.0</td>\n      <td>1260759185</td>\n    </tr>\n    <tr>\n      <th>4</th>\n      <td>1</td>\n      <td>1172</td>\n      <td>4.0</td>\n      <td>1260759205</td>\n    </tr>\n    <tr>\n      <th>5</th>\n      <td>1</td>\n      <td>1263</td>\n      <td>2.0</td>\n      <td>1260759151</td>\n    </tr>\n    <tr>\n      <th>6</th>\n      <td>1</td>\n      <td>1287</td>\n      <td>2.0</td>\n      <td>1260759187</td>\n    </tr>\n    <tr>\n      <th>7</th>\n      <td>1</td>\n      <td>1293</td>\n      <td>2.0</td>\n      <td>1260759148</td>\n    </tr>\n    <tr>\n      <th>8</th>\n      <td>1</td>\n      <td>1339</td>\n      <td>3.5</td>\n      <td>1260759125</td>\n    </tr>\n    <tr>\n      <th>9</th>\n      <td>1</td>\n      <td>1343</td>\n      <td>2.0</td>\n      <td>1260759131</td>\n    </tr>\n    <tr>\n      <th>10</th>\n      <td>1</td>\n      <td>1371</td>\n      <td>2.5</td>\n      <td>1260759135</td>\n    </tr>\n    <tr>\n      <th>11</th>\n      <td>1</td>\n      <td>1405</td>\n      <td>1.0</td>\n      <td>1260759203</td>\n    </tr>\n    <tr>\n      <th>12</th>\n      <td>1</td>\n      <td>1953</td>\n      <td>4.0</td>\n      <td>1260759191</td>\n    </tr>\n    <tr>\n      <th>13</th>\n      <td>1</td>\n      <td>2105</td>\n      <td>4.0</td>\n      <td>1260759139</td>\n    </tr>\n    <tr>\n      <th>14</th>\n      <td>1</td>\n      <td>2150</td>\n      <td>3.0</td>\n      <td>1260759194</td>\n    </tr>\n    <tr>\n      <th>15</th>\n      <td>1</td>\n      <td>2193</td>\n      <td>2.0</td>\n      <td>1260759198</td>\n    </tr>\n    <tr>\n      <th>16</th>\n      <td>1</td>\n      <td>2294</td>\n      <td>2.0</td>\n      <td>1260759108</td>\n    </tr>\n    <tr>\n      <th>17</th>\n      <td>1</td>\n      <td>2455</td>\n      <td>2.5</td>\n      <td>1260759113</td>\n    </tr>\n    <tr>\n      <th>18</th>\n      <td>1</td>\n      <td>2968</td>\n      <td>1.0</td>\n      <td>1260759200</td>\n    </tr>\n    <tr>\n      <th>19</th>\n      <td>1</td>\n      <td>3671</td>\n      <td>3.0</td>\n      <td>1260759117</td>\n    </tr>\n  </tbody>\n</table>\n</div>"
     },
     "execution_count": 14,
     "metadata": {},
     "output_type": "execute_result"
    }
   ],
   "source": [
    "ratings[ratings['userId'] == 1]"
   ]
  },
  {
   "cell_type": "code",
   "execution_count": 15,
   "id": "1904adb4",
   "metadata": {},
   "outputs": [
    {
     "data": {
      "text/plain": "Prediction(uid=1, iid=302, r_ui=None, est=2.7142061734434044, details={'was_impossible': False})"
     },
     "execution_count": 15,
     "metadata": {},
     "output_type": "execute_result"
    }
   ],
   "source": [
    "svd.predict(1, 302)"
   ]
  },
  {
   "cell_type": "code",
   "execution_count": 16,
   "id": "b25b13e1",
   "metadata": {},
   "outputs": [
    {
     "data": {
      "text/plain": "Prediction(uid=1, iid=1029, r_ui=3, est=2.8814455446761933, details={'was_impossible': False})"
     },
     "execution_count": 16,
     "metadata": {},
     "output_type": "execute_result"
    }
   ],
   "source": [
    "svd.predict(1, 1029, 3) # UserId = 1 번인 사람이 Movie Id = 1029 인 영화에 대해서 실제 평가 3점일 때, 예측 평가 점수?"
   ]
  },
  {
   "cell_type": "code",
   "execution_count": 17,
   "id": "29a083f4",
   "metadata": {},
   "outputs": [
    {
     "data": {
      "text/plain": "       userId  movieId  rating  timestamp\n15273     100        1     4.0  854193977\n15274     100        3     4.0  854194024\n15275     100        6     3.0  854194023\n15276     100        7     3.0  854194024\n15277     100       25     4.0  854193977\n15278     100       32     5.0  854193977\n15279     100       52     3.0  854194056\n15280     100       62     3.0  854193977\n15281     100       86     3.0  854194208\n15282     100       88     2.0  854194208\n15283     100       95     3.0  854193977\n15284     100      135     3.0  854194086\n15285     100      141     3.0  854193977\n15286     100      608     4.0  854194024\n15287     100      648     3.0  854193977\n15288     100      661     3.0  854194086\n15289     100      708     3.0  854194056\n15290     100      733     3.0  854194024\n15291     100      736     3.0  854193977\n15292     100      745     4.0  854194208\n15293     100      780     3.0  854193977\n15294     100      786     3.0  854194056\n15295     100      802     4.0  854194111\n15296     100     1073     5.0  854194056\n15297     100     1356     4.0  854194086",
      "text/html": "<div>\n<style scoped>\n    .dataframe tbody tr th:only-of-type {\n        vertical-align: middle;\n    }\n\n    .dataframe tbody tr th {\n        vertical-align: top;\n    }\n\n    .dataframe thead th {\n        text-align: right;\n    }\n</style>\n<table border=\"1\" class=\"dataframe\">\n  <thead>\n    <tr style=\"text-align: right;\">\n      <th></th>\n      <th>userId</th>\n      <th>movieId</th>\n      <th>rating</th>\n      <th>timestamp</th>\n    </tr>\n  </thead>\n  <tbody>\n    <tr>\n      <th>15273</th>\n      <td>100</td>\n      <td>1</td>\n      <td>4.0</td>\n      <td>854193977</td>\n    </tr>\n    <tr>\n      <th>15274</th>\n      <td>100</td>\n      <td>3</td>\n      <td>4.0</td>\n      <td>854194024</td>\n    </tr>\n    <tr>\n      <th>15275</th>\n      <td>100</td>\n      <td>6</td>\n      <td>3.0</td>\n      <td>854194023</td>\n    </tr>\n    <tr>\n      <th>15276</th>\n      <td>100</td>\n      <td>7</td>\n      <td>3.0</td>\n      <td>854194024</td>\n    </tr>\n    <tr>\n      <th>15277</th>\n      <td>100</td>\n      <td>25</td>\n      <td>4.0</td>\n      <td>854193977</td>\n    </tr>\n    <tr>\n      <th>15278</th>\n      <td>100</td>\n      <td>32</td>\n      <td>5.0</td>\n      <td>854193977</td>\n    </tr>\n    <tr>\n      <th>15279</th>\n      <td>100</td>\n      <td>52</td>\n      <td>3.0</td>\n      <td>854194056</td>\n    </tr>\n    <tr>\n      <th>15280</th>\n      <td>100</td>\n      <td>62</td>\n      <td>3.0</td>\n      <td>854193977</td>\n    </tr>\n    <tr>\n      <th>15281</th>\n      <td>100</td>\n      <td>86</td>\n      <td>3.0</td>\n      <td>854194208</td>\n    </tr>\n    <tr>\n      <th>15282</th>\n      <td>100</td>\n      <td>88</td>\n      <td>2.0</td>\n      <td>854194208</td>\n    </tr>\n    <tr>\n      <th>15283</th>\n      <td>100</td>\n      <td>95</td>\n      <td>3.0</td>\n      <td>854193977</td>\n    </tr>\n    <tr>\n      <th>15284</th>\n      <td>100</td>\n      <td>135</td>\n      <td>3.0</td>\n      <td>854194086</td>\n    </tr>\n    <tr>\n      <th>15285</th>\n      <td>100</td>\n      <td>141</td>\n      <td>3.0</td>\n      <td>854193977</td>\n    </tr>\n    <tr>\n      <th>15286</th>\n      <td>100</td>\n      <td>608</td>\n      <td>4.0</td>\n      <td>854194024</td>\n    </tr>\n    <tr>\n      <th>15287</th>\n      <td>100</td>\n      <td>648</td>\n      <td>3.0</td>\n      <td>854193977</td>\n    </tr>\n    <tr>\n      <th>15288</th>\n      <td>100</td>\n      <td>661</td>\n      <td>3.0</td>\n      <td>854194086</td>\n    </tr>\n    <tr>\n      <th>15289</th>\n      <td>100</td>\n      <td>708</td>\n      <td>3.0</td>\n      <td>854194056</td>\n    </tr>\n    <tr>\n      <th>15290</th>\n      <td>100</td>\n      <td>733</td>\n      <td>3.0</td>\n      <td>854194024</td>\n    </tr>\n    <tr>\n      <th>15291</th>\n      <td>100</td>\n      <td>736</td>\n      <td>3.0</td>\n      <td>854193977</td>\n    </tr>\n    <tr>\n      <th>15292</th>\n      <td>100</td>\n      <td>745</td>\n      <td>4.0</td>\n      <td>854194208</td>\n    </tr>\n    <tr>\n      <th>15293</th>\n      <td>100</td>\n      <td>780</td>\n      <td>3.0</td>\n      <td>854193977</td>\n    </tr>\n    <tr>\n      <th>15294</th>\n      <td>100</td>\n      <td>786</td>\n      <td>3.0</td>\n      <td>854194056</td>\n    </tr>\n    <tr>\n      <th>15295</th>\n      <td>100</td>\n      <td>802</td>\n      <td>4.0</td>\n      <td>854194111</td>\n    </tr>\n    <tr>\n      <th>15296</th>\n      <td>100</td>\n      <td>1073</td>\n      <td>5.0</td>\n      <td>854194056</td>\n    </tr>\n    <tr>\n      <th>15297</th>\n      <td>100</td>\n      <td>1356</td>\n      <td>4.0</td>\n      <td>854194086</td>\n    </tr>\n  </tbody>\n</table>\n</div>"
     },
     "execution_count": 17,
     "metadata": {},
     "output_type": "execute_result"
    }
   ],
   "source": [
    "ratings[ratings['userId'] == 100]"
   ]
  },
  {
   "cell_type": "code",
   "execution_count": 18,
   "id": "cedc93a1",
   "metadata": {},
   "outputs": [
    {
     "data": {
      "text/plain": "Prediction(uid=100, iid=1029, r_ui=None, est=3.7705476478414846, details={'was_impossible': False})"
     },
     "execution_count": 18,
     "metadata": {},
     "output_type": "execute_result"
    }
   ],
   "source": [
    "svd.predict(100, 1029) # User Id = 100, Movie Id = 1029"
   ]
  }
 ],
 "metadata": {
  "kernelspec": {
   "display_name": "Python 3",
   "language": "python",
   "name": "python3"
  },
  "language_info": {
   "codemirror_mode": {
    "name": "ipython",
    "version": 3
   },
   "file_extension": ".py",
   "mimetype": "text/x-python",
   "name": "python",
   "nbconvert_exporter": "python",
   "pygments_lexer": "ipython3",
   "version": "3.8.8"
  }
 },
 "nbformat": 4,
 "nbformat_minor": 5
}
